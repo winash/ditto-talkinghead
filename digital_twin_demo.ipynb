{
 "cells": [
  {
   "cell_type": "markdown",
   "metadata": {},
   "source": [
    "# Ditto TalkingHead - Digital Twin Demo\n",
    "\n",
    "This notebook demonstrates how to create and use a digital twin similar to Heygen.\n",
    "\n",
    "## Overview:\n",
    "1. Train a digital twin from a video of yourself speaking\n",
    "2. Use your digital twin to generate personalized talking head animations"
   ]
  },
  {
   "cell_type": "markdown",
   "metadata": {},
   "source": [
    "## 1. Import dependencies"
   ]
  },
  {
   "cell_type": "code",
   "execution_count": null,
   "metadata": {},
   "outputs": [],
   "source": [
    "\n",
    "import time\n",
    "from stream_pipeline_offline import StreamSDK\n",
    "from personalization import DigitalTwinTrainer\n",
    "from inference import run"
   ]
  },
  {
   "cell_type": "markdown",
   "metadata": {},
   "source": [
    "## 2. Configuration\n",
    "\n",
    "Set up the paths to your models and data."
   ]
  },
  {
   "cell_type": "code",
   "execution_count": null,
   "metadata": {},
   "outputs": [],
   "source": [
    "# Path to model data and configuration\n",
    "DATA_ROOT = \"./checkpoints/ditto_trt_Ampere_Plus\"\n",
    "CFG_PKL = \"./checkpoints/ditto_cfg/v0.4_hubert_cfg_trt.pkl\"\n",
    "\n",
    "# Path to your source video for training the digital twin\n",
    "# This should be a video of you speaking, preferably with a variety of expressions\n",
    "SOURCE_VIDEO = \"path/to/your/training_video.mp4\"  # Change this to your video path\n",
    "\n",
    "# Directory to save the trained digital twin model\n",
    "DIGITAL_TWIN_DIR = \"./my_digital_twin\"\n",
    "\n",
    "# For inference after training\n",
    "AUDIO_PATH = \"path/to/audio.wav\"  # Audio you want your digital twin to speak\n",
    "REFERENCE_IMAGE = \"path/to/reference.jpg\"  # A reference image of you (can be a frame from the video)\n",
    "OUTPUT_PATH = \"digital_twin_result.mp4\"  # Where to save the output video"
   ]
  },
  {
   "cell_type": "markdown",
   "metadata": {},
   "source": [
    "## 3. Initialize SDK"
   ]
  },
  {
   "cell_type": "code",
   "execution_count": null,
   "metadata": {},
   "outputs": [],
   "source": [
    "# Initialize the StreamSDK\n",
    "sdk = StreamSDK(CFG_PKL, DATA_ROOT)\n",
    "print(\"SDK initialized successfully\")"
   ]
  },
  {
   "cell_type": "markdown",
   "metadata": {},
   "source": [
    "## 4. Train your digital twin\n",
    "\n",
    "This step analyzes your video to learn your unique facial expressions and speaking style. It might take a while depending on the length of your video and the number of training epochs."
   ]
  },
  {
   "cell_type": "code",
   "execution_count": null,
   "metadata": {},
   "outputs": [],
   "source": [
    "# Create a digital twin trainer\n",
    "trainer = DigitalTwinTrainer(\n",
    "    sdk=sdk,\n",
    "    source_video_path=SOURCE_VIDEO,\n",
    "    epochs=20,  # Number of training epochs - higher is better but takes longer\n",
    "    learning_rate=1e-5,  # Learning rate for fine-tuning\n",
    "    output_dir=DIGITAL_TWIN_DIR,\n",
    "    device=\"cuda\"  # Use \"cpu\" if you don't have a GPU\n",
    ")\n",
    "\n",
    "# Start training\n",
    "print(f\"Training digital twin from {SOURCE_VIDEO}...\")\n",
    "start_time = time.time()\n",
    "model_path = trainer.train()\n",
    "end_time = time.time()\n",
    "print(f\"Training completed in {(end_time - start_time) / 60:.2f} minutes\")\n",
    "print(f\"Model saved to {model_path}\")"
   ]
  },
  {
   "cell_type": "markdown",
   "metadata": {},
   "source": [
    "## 5. Generate a video with your digital twin\n",
    "\n",
    "Now you can use your trained digital twin to generate a personalized talking head animation."
   ]
  },
  {
   "cell_type": "code",
   "execution_count": null,
   "metadata": {},
   "outputs": [],
   "source": [
    "# Initialize a new SDK instance for inference\n",
    "inference_sdk = StreamSDK(CFG_PKL, DATA_ROOT)\n",
    "\n",
    "# Configure settings for digital twin inference\n",
    "setup_kwargs = {\n",
    "    # Digital twin settings\n",
    "    \"digital_twin_mode\": True,  # Enable digital twin mode\n",
    "    \"digital_twin_model_dir\": DIGITAL_TWIN_DIR,  # Path to your trained model\n",
    "    \n",
    "    # Expression settings\n",
    "    \"emotion_intensity\": 1.3,  # Controls emotional expressiveness (1.0-1.5)\n",
    "    \"sampling_timesteps\": 50,  # More = better quality but slower (50-80)\n",
    "    \"smo_k_d\": 1,  # Motion smoothing (1-3, lower = more dynamic)\n",
    "    \n",
    "    # Background motion\n",
    "    \"bg_motion_enabled\": True,  # Enable subtle background motion\n",
    "    \"bg_motion_intensity\": 0.005,  # Background motion intensity (0.001-0.02)\n",
    "}\n",
    "\n",
    "more_kwargs = {\"setup_kwargs\": setup_kwargs}\n",
    "\n",
    "# Generate video\n",
    "print(f\"Generating video with digital twin...\")\n",
    "run(inference_sdk, AUDIO_PATH, REFERENCE_IMAGE, OUTPUT_PATH, more_kwargs)\n",
    "print(f\"Digital twin video saved to {OUTPUT_PATH}\")"
   ]
  },
  {
   "cell_type": "markdown",
   "metadata": {},
   "source": [
    "## 6. Compare with regular mode\n",
    "\n",
    "Let's generate another video without the digital twin to see the difference."
   ]
  },
  {
   "cell_type": "code",
   "execution_count": null,
   "metadata": {},
   "outputs": [],
   "source": [
    "# Initialize another SDK instance\n",
    "regular_sdk = StreamSDK(CFG_PKL, DATA_ROOT)\n",
    "\n",
    "# Configure settings without digital twin\n",
    "regular_kwargs = {\n",
    "    \"digital_twin_mode\": False,  # Disable digital twin mode\n",
    "    \n",
    "    # Same expression settings as before\n",
    "    \"emotion_intensity\": 1.3,\n",
    "    \"sampling_timesteps\": 50,\n",
    "    \"smo_k_d\": 1,\n",
    "    \n",
    "    # Same background motion\n",
    "    \"bg_motion_enabled\": True,\n",
    "    \"bg_motion_intensity\": 0.005,\n",
    "}\n",
    "\n",
    "regular_more_kwargs = {\"setup_kwargs\": regular_kwargs}\n",
    "\n",
    "# Generate regular video\n",
    "regular_output = \"regular_result.mp4\"\n",
    "print(f\"Generating video without digital twin...\")\n",
    "run(regular_sdk, AUDIO_PATH, REFERENCE_IMAGE, regular_output, regular_more_kwargs)\n",
    "print(f\"Regular video saved to {regular_output}\")"
   ]
  },
  {
   "cell_type": "markdown",
   "metadata": {},
   "source": [
    "## How it works\n",
    "\n",
    "The digital twin feature works in several stages:\n",
    "\n",
    "1. **Facial Analysis**: The system extracts facial features and expressions from your video\n",
    "2. **Style Analysis**: It analyzes your unique speaking style, including expression patterns\n",
    "3. **Model Personalization**: It fine-tunes the motion generation model to match your style\n",
    "4. **Personalized Animation**: During inference, it applies your personal style to the animation\n",
    "\n",
    "The result is a talking head animation that better represents your personal speaking style and expressions, similar to how Heygen creates personalized digital twins."
   ]
  }
 ],
 "metadata": {
  "kernelspec": {
   "display_name": "Python 3",
   "language": "python",
   "name": "python3"
  },
  "language_info": {
   "codemirror_mode": {
    "name": "ipython",
    "version": 3
   },
   "file_extension": ".py",
   "mimetype": "text/x-python",
   "name": "python",
   "nbconvert_exporter": "python",
   "pygments_lexer": "ipython3",
   "version": "3.8.10"
  }
 },
 "nbformat": 4,
 "nbformat_minor": 4
}
